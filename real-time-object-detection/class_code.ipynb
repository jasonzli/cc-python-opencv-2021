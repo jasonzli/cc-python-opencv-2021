{
 "cells": [
  {
   "cell_type": "markdown",
   "metadata": {},
   "source": [
    "# Real-time object detection with OpenCV\n",
    "\n",
    "We will use OpenCV's [Deep Neural Network module](https://docs.opencv.org/master/d6/d0f/group__dnn.html) to load a pre-trained MobileNet-SSD network and detect objects in a webcam live-stream."
   ]
  },
  {
   "cell_type": "code",
   "execution_count": null,
   "metadata": {},
   "outputs": [],
   "source": [
    "# Code by Adrian Rosebrock\n",
    "# Modified by Franziska Mack for Parsons Summer Python Class 2020\n",
    "# https://www.pyimagesearch.com/2017/09/18/real-time-object-detection-with-deep-learning-and-opencv/\n",
    "\n",
    "# MobileNet-SSD detection network (caffe implementation)\n",
    "# https://github.com/chuanqi305/MobileNet-SSD\n",
    "\n",
    "from imutils.video import VideoStream, FPS\n",
    "import numpy as np\n",
    "import imutils\n",
    "import time\n",
    "import cv2"
   ]
  },
  {
   "cell_type": "code",
   "execution_count": null,
   "metadata": {},
   "outputs": [],
   "source": [
    "# load trained model and text description of its network architecture (prototxt file)\n",
    "prototxt = \"/Users/franziskamack/Documents/GitHub/python/Week_09/real-time-object-detection/MobileNetSSD_deploy.prototxt.txt\"\n",
    "model = \"/Users/franziskamack/Documents/GitHub/python/Week_09/real-time-object-detection/MobileNetSSD_deploy.caffemodel\"\n",
    "\n",
    "# use opencv's Deep Neural Network module to read the model in\n",
    "net = cv2.dnn.readNetFromCaffe(prototxt, model)"
   ]
  },
  {
   "cell_type": "code",
   "execution_count": null,
   "metadata": {},
   "outputs": [],
   "source": [
    "# initialize the list of class labels MobileNet SSD was trained to detect\n",
    "CLASSES = [\"background\", \"aeroplane\", \"bicycle\", \"bird\", \"boat\",\n",
    "    \"bottle\", \"bus\", \"car\", \"cat\", \"chair\", \"cow\", \"diningtable\",\n",
    "    \"dog\", \"horse\", \"motorbike\", \"person\", \"pottedplant\", \"sheep\",\n",
    "    \"sofa\", \"train\", \"tvmonitor\", \"scissors\", \"banana\", \"apple\", \"carrot\"]\n",
    "\n",
    "# generate a set of bounding box colors for each class\n",
    "COLORS = np.random.uniform(0, 255, size=(len(CLASSES), 3))"
   ]
  },
  {
   "cell_type": "code",
   "execution_count": null,
   "metadata": {},
   "outputs": [],
   "source": [
    "# initialize video stream\n",
    "vs = VideoStream(src=0).start()\n",
    "time.sleep(2.0)"
   ]
  },
  {
   "cell_type": "markdown",
   "metadata": {},
   "source": [
    "Before we can pass our video stream to the network, we need to pre-process the data. \n",
    "Let's have a closer look at OpenCV’s __blobFromImage__ module, which creates a 4-dimensional blob from the image."
   ]
  },
  {
   "cell_type": "code",
   "execution_count": null,
   "metadata": {},
   "outputs": [],
   "source": [
    "# grab the frame from the video stream and resize it\n",
    "frame = vs.read()\n",
    "frame = imutils.resize(frame, width=400)\n",
    "\n",
    "# convert the frame to a blob\n",
    "blob = cv2.dnn.blobFromImage(cv2.resize(frame, (300, 300)), 0.007843, (300, 300), 127.5)\n",
    "\n",
    "# let's look at the blob\n",
    "print(type(blob))\n",
    "print(blob.shape)"
   ]
  },
  {
   "cell_type": "code",
   "execution_count": null,
   "metadata": {},
   "outputs": [],
   "source": [
    "# pass the blob through the network and obtain the detections and predictions\n",
    "net.setInput(blob)\n",
    "netOutput = net.forward()\n",
    "\n",
    "print(type(netOutput))\n",
    "print(netOutput.shape)"
   ]
  },
  {
   "cell_type": "markdown",
   "metadata": {},
   "source": [
    "The output of the models corresponds to an array of size (1, 1, 100, 7). We are interested in the results of the layer [0,0,:,:], where the dimension with 100 values corresponds to the number of detected bounding boxes and 7 corresponds to the class id, the confidence score and the bounding box coordinates."
   ]
  },
  {
   "cell_type": "code",
   "execution_count": null,
   "metadata": {},
   "outputs": [],
   "source": [
    "print(netOutput[0,0,:,:].shape)\n",
    "netOutput[0,0,:,:]"
   ]
  },
  {
   "cell_type": "markdown",
   "metadata": {},
   "source": [
    "Let's integrate this into our video stream:"
   ]
  },
  {
   "cell_type": "code",
   "execution_count": null,
   "metadata": {},
   "outputs": [],
   "source": [
    "# loop over the frames from the video stream\n",
    "while True:\n",
    "    # grab the frame from the video stream and resize it\n",
    "    frame = vs.read()\n",
    "    frame = imutils.resize(frame, width=400)\n",
    "\n",
    "    # grab the frame dimensions\n",
    "    h = frame.shape[0]\n",
    "    w = frame.shape[1]\n",
    "    # convert the frame to a blob\n",
    "    blob = cv2.dnn.blobFromImage(cv2.resize(frame, (300, 300)), 0.007843, (300, 300), 127.5)\n",
    "\n",
    "    # pass the blob through the network and obtain the detections and predictions\n",
    "    net.setInput(blob)\n",
    "    netOutput = net.forward()\n",
    "    \n",
    "    # loop over the detections\n",
    "    for detection in netOutput[0,0,:,:]:\n",
    "        # extract the confidence (i.e., probability) associated with\n",
    "        # the prediction\n",
    "        confidence = float(detection[2])\n",
    "\n",
    "        # filter out weak detections by ensuring the 'confidence' is greater than 80%\n",
    "        if confidence > 0.8:\n",
    "            # extract the index of the class label from the 'detection'\n",
    "            idx = int(detection[1])\n",
    "            \n",
    "            # then compute the (x, y)-coordinates of the bounding box for the object\n",
    "            left = int(detection[3] * w)\n",
    "            top = int(detection[4] * h)\n",
    "            right = int(detection[5] * w)\n",
    "            bottom = int(detection[6] * h)\n",
    " \n",
    "            #draw a rectangle around detected objects\n",
    "            cv2.rectangle(frame, (left, top), (right, bottom), COLORS[idx], thickness=2)\n",
    "\n",
    "            # draw the prediction on the frame\n",
    "            label = \"{}: {:.2f}%\".format(CLASSES[idx], confidence * 100)\n",
    "            y = top - 15 if top - 15 > 15 else top + 15\n",
    "            cv2.putText(frame, label, (left, y), cv2.FONT_HERSHEY_SIMPLEX, 0.5, COLORS[idx], 2)\n",
    "\n",
    "    # show the output frame\n",
    "    cv2.imshow(\"Frame\", frame)\n",
    "\n",
    "    # if the 'q' key was pressed, break from the loop\n",
    "    if cv2.waitKey(1) == ord(\"q\"):\n",
    "        break\n",
    "        \n",
    "# do a bit of cleanup\n",
    "cv2.destroyAllWindows()\n",
    "vs.stop()"
   ]
  },
  {
   "cell_type": "code",
   "execution_count": null,
   "metadata": {},
   "outputs": [],
   "source": []
  }
 ],
 "metadata": {
  "kernelspec": {
   "display_name": "Python 3",
   "language": "python",
   "name": "python3"
  },
  "language_info": {
   "codemirror_mode": {
    "name": "ipython",
    "version": 3
   },
   "file_extension": ".py",
   "mimetype": "text/x-python",
   "name": "python",
   "nbconvert_exporter": "python",
   "pygments_lexer": "ipython3",
   "version": "3.7.4"
  }
 },
 "nbformat": 4,
 "nbformat_minor": 2
}
