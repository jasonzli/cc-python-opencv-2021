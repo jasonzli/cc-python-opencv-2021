{
 "cells": [
  {
   "cell_type": "markdown",
   "metadata": {},
   "source": [
    "# Try to Recreate the Feature Mapping Notebook\n",
    "\n",
    "In this exercise we have left none of the code for you. Use this to practice writing the code that you need for a feature mapping use of OpenCV\n",
    "\n",
    "Use the two images of plushies in this folder to try it out. You'll have to make the decision which is the query and which is the training image though!\n",
    "\n",
    "This scenario is similar to what you might try in the real world. Have fun!"
   ]
  },
  {
   "cell_type": "code",
   "execution_count": null,
   "metadata": {},
   "outputs": [],
   "source": [
    "# importing libraries\n",
    "import cv2\n",
    "import numpy as np\n",
    "from matplotlib import pyplot as plt\n",
    "%matplotlib inline\n",
    "\n",
    "# for resizing our inline images\n",
    "import pylab\n",
    "pylab.rcParams['figure.figsize'] = (7, 10)"
   ]
  },
  {
   "cell_type": "code",
   "execution_count": null,
   "metadata": {},
   "outputs": [],
   "source": [
    "# Add your code here\n",
    "\n",
    "#this code is roughly identical to the code in the mapping example."
   ]
  },
  {
   "cell_type": "markdown",
   "metadata": {},
   "source": [
    "# Summary\n",
    "\n",
    "This probably wasn't what you expected from the output. Why was that? was the training image not enough? Was the test case too out of scope? You'll always have to think about these with computer vision."
   ]
  },
  {
   "cell_type": "code",
   "execution_count": null,
   "metadata": {},
   "outputs": [],
   "source": []
  }
 ],
 "metadata": {
  "kernelspec": {
   "display_name": "Python 3",
   "language": "python",
   "name": "python3"
  },
  "language_info": {
   "codemirror_mode": {
    "name": "ipython",
    "version": 3
   },
   "file_extension": ".py",
   "mimetype": "text/x-python",
   "name": "python",
   "nbconvert_exporter": "python",
   "pygments_lexer": "ipython3",
   "version": "3.7.4"
  }
 },
 "nbformat": 4,
 "nbformat_minor": 2
}
